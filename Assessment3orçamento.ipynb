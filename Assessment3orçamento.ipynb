{
  "nbformat": 4,
  "nbformat_minor": 0,
  "metadata": {
    "colab": {
      "name": "Assessment3orçamento.ipynb",
      "provenance": [],
      "authorship_tag": "ABX9TyPju57+db8omIaXa5pX17Bt",
      "include_colab_link": true
    },
    "kernelspec": {
      "name": "python3",
      "display_name": "Python 3"
    }
  },
  "cells": [
    {
      "cell_type": "markdown",
      "metadata": {
        "id": "view-in-github",
        "colab_type": "text"
      },
      "source": [
        "<a href=\"https://colab.research.google.com/github/Myranda1/Estudos/blob/master/Assessment3or%C3%A7amento.ipynb\" target=\"_parent\"><img src=\"https://colab.research.google.com/assets/colab-badge.svg\" alt=\"Open In Colab\"/></a>"
      ]
    },
    {
      "cell_type": "code",
      "metadata": {
        "id": "YrUn2mkkUO2u",
        "colab_type": "code",
        "colab": {
          "base_uri": "https://localhost:8080/",
          "height": 151
        },
        "outputId": "f8b7d272-8a44-41e4-f121-66284ba7686a"
      },
      "source": [
        "def calcularPorcentagem(renda, valor): \n",
        "  resultado = valor*100/renda\n",
        "  return resultado\n",
        "\n",
        "def calcularMoradiaSaudavel(renda):\n",
        "  resultado = renda/100 * 30\n",
        "  return resultado\n",
        "\n",
        "def calcularEducacaoSaudavel(renda):\n",
        "  resultado = renda/100 * 20\n",
        "  return resultado\n",
        "\n",
        "def calcularTransporteSaudavel(renda):\n",
        "  resultado = renda/100 * 15\n",
        "  return resultado\n",
        "\n",
        "def diagnostico(renda, moradia, educacao, transporte):\n",
        "  porcentagemMoradia = calcularPorcentagem(renda, moradia)\n",
        "  if porcentagemMoradia > 30:\n",
        "    moradiaSaudavel = calcularMoradiaSaudavel(renda)\n",
        "    print(f'O seu gasto com moradia está maior do que o recomendado, você compromete {porcentagemMoradia:.2f}% da sua renda, o ideal é que se gaste até 30%. Você gasta R${moradia} e deveria gastar até R${moradiaSaudavel}.')\n",
        "  else:\n",
        "    print(f'O seu gasto com a moradia está dentro do ideal, {porcentagemMoradia:.2f}%')\n",
        "\n",
        "  porcentagemEducacao = calcularPorcentagem(renda, educacao)\n",
        "  if porcentagemEducacao > 20:\n",
        "    educacaoSaudavel = calcularEducacaoSaudavel(renda)\n",
        "    print(f'O seu gasto com educação está maior do que o recomendado, você compromete {porcentagemEducacao:.2f}% da sua renda, o ideal é que gaste até 20%. Você gasta R${educacao} e deveria gastar até R${educacaoSaudavel}.')\n",
        "  else:\n",
        "    print(f'O seu gasto com a educação está dentro do ideal, {porcentagemEducacao:.2f}%')\n",
        "\n",
        "  porcentagemTransporte = calcularPorcentagem(renda, transporte)\n",
        "  if porcentagemTransporte > 15:\n",
        "    transporteSaudavel = calcularTransporteSaudavel(renda)\n",
        "    print(f'O seu gasto com transporte está maior do que o recomendado, você compromete {porcentagemTransporte:.2f}% da sua renda, o ideal é que se gaste até 15%. Você gasta R${transporte} e deveria gastar até R${transporteSaudavel}.')\n",
        "  else:\n",
        "    print(f'O seu gasto com o transporte está dentro do ideal, {porcentagemTransporte:.2f}%')\n",
        "\n",
        "rendaUsuario = float(input(\"Informe a sua renda mensal: R$ \"))\n",
        "moradiaUsuario = float(input(\"Informe o seu gasto com a moradia: R$ \"))\n",
        "educacaoUsuario = float(input(\"Informe o seu gasto com a educação: R$ \"))\n",
        "transporteUsuario = float(input(\"Informe o seu gasto com transporte: R$ \"))\n",
        "print(\"Diagnóstico:\")\n",
        "diagnostico(rendaUsuario, moradiaUsuario, educacaoUsuario, transporteUsuario)\n"
      ],
      "execution_count": 5,
      "outputs": [
        {
          "output_type": "stream",
          "text": [
            "Informe a sua renda mensal: R$ 6000\n",
            "Informe o seu gasto com a moradia: R$ 2500\n",
            "Informe o seu gasto com a educação: R$ 1000\n",
            "Informe o seu gasto com transporte: R$ 500\n",
            "Diagnóstico:\n",
            "O seu gasto com moradia está maior do que o recomendado, você compromete 41.67% da sua renda, o ideal é que se gaste até 30%. Você gasta R$2500.0 e deveria gastar até R$1800.0.\n",
            "O seu gasto com a educação está dentro do ideal, 16.67%\n",
            "O seu gasto com o transporte está dentro do ideal, 8.33%\n"
          ],
          "name": "stdout"
        }
      ]
    }
  ]
}