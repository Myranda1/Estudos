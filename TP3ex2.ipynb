{
  "nbformat": 4,
  "nbformat_minor": 0,
  "metadata": {
    "colab": {
      "name": "Untitled2.ipynb",
      "provenance": [],
      "authorship_tag": "ABX9TyNWu2PXHn2cH/C6NHAjR/Ls",
      "include_colab_link": true
    },
    "kernelspec": {
      "name": "python3",
      "display_name": "Python 3"
    }
  },
  "cells": [
    {
      "cell_type": "markdown",
      "metadata": {
        "id": "view-in-github",
        "colab_type": "text"
      },
      "source": [
        "<a href=\"https://colab.research.google.com/github/Myranda1/Estudos/blob/master/TP3ex2.ipynb\" target=\"_parent\"><img src=\"https://colab.research.google.com/assets/colab-badge.svg\" alt=\"Open In Colab\"/></a>"
      ]
    },
    {
      "cell_type": "code",
      "metadata": {
        "id": "cNPNJM5lL5WE",
        "colab_type": "code",
        "colab": {
          "base_uri": "https://localhost:8080/",
          "height": 50
        },
        "outputId": "f190b0ec-4202-423c-bebd-4c741b2d1b97"
      },
      "source": [
        "def eleitorado():\n",
        "  idade = int(input(\"Informe a idade:\"))\n",
        "  if idade >= 18 and idade < 70:\n",
        "    print(\"O eleitor tem obrigacação em votar.\")\n",
        "  elif idade < 16 and idade > 0:\n",
        "    print(\"Não tem direito ao voto.\")\n",
        "  elif idade < 0:\n",
        "      print(\"Idade inválida.\")\n",
        "  elif idade >=16 and idade < 18 or idade >= 70:\n",
        "    print(\"Eleitor facultativo.\")\n",
        "\n",
        "eleitorado()\n"
      ],
      "execution_count": 3,
      "outputs": [
        {
          "output_type": "stream",
          "text": [
            "Informe a idade:-3\n",
            "Idade inválida.\n"
          ],
          "name": "stdout"
        }
      ]
    }
  ]
}