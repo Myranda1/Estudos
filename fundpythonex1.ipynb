{
  "nbformat": 4,
  "nbformat_minor": 0,
  "metadata": {
    "colab": {
      "name": "fundpythonex1.ipynb",
      "provenance": [],
      "collapsed_sections": [],
      "authorship_tag": "ABX9TyPRDnp3vWPo4ti48WwlPpt9",
      "include_colab_link": true
    },
    "kernelspec": {
      "name": "python3",
      "display_name": "Python 3"
    }
  },
  "cells": [
    {
      "cell_type": "markdown",
      "metadata": {
        "id": "view-in-github",
        "colab_type": "text"
      },
      "source": [
        "<a href=\"https://colab.research.google.com/github/Myranda1/Estudos/blob/master/fundpythonex1.ipynb\" target=\"_parent\"><img src=\"https://colab.research.google.com/assets/colab-badge.svg\" alt=\"Open In Colab\"/></a>"
      ]
    },
    {
      "cell_type": "markdown",
      "metadata": {
        "id": "DUsODXfpJcy9"
      },
      "source": [
        "1. Escreva uma função em Python que some todos os números ímpares de 1\n",
        "até um dado N, inclusive. O número N deve ser obtido do usuário. Ao final,\n",
        "escreva o valor do resultado desta soma."
      ]
    },
    {
      "cell_type": "code",
      "metadata": {
        "id": "q74bCZoSCmZA",
        "outputId": "417d811d-cfd8-4240-b3f4-db3cf8da9b2b",
        "colab": {
          "base_uri": "https://localhost:8080/",
          "height": 50
        }
      },
      "source": [
        "# exercícios questão 1\n",
        "def calcular_soma_impar():\n",
        "  n = int(input('Qual o valor de n?'))\n",
        "  contador = 0\n",
        "  for x in range(1, n+1):\n",
        "    if x % 2 != 0:\n",
        "      contador = contador + x\n",
        "  print(contador)\n",
        "\n",
        "calcular_soma_impar()\n"
      ],
      "execution_count": 2,
      "outputs": [
        {
          "output_type": "stream",
          "text": [
            "Qual o valor de n?25\n",
            "169\n"
          ],
          "name": "stdout"
        }
      ]
    },
    {
      "cell_type": "markdown",
      "metadata": {
        "id": "MF7wc9SSUKJm"
      },
      "source": [
        "2. Faça uma função em Python que receba do usuário a idade de uma\n",
        "pessoa em anos, meses e dias e retorne essa idade expressa em dias.\n",
        "Considere que todos os anos têm 365 dias."
      ]
    },
    {
      "cell_type": "code",
      "metadata": {
        "id": "FUk3n8I3KI4w",
        "outputId": "98b0194c-3f80-4ef8-d085-de6bbabe7510",
        "colab": {
          "base_uri": "https://localhost:8080/",
          "height": 84
        }
      },
      "source": [
        "# exercícios questão 2\n",
        "def idade():\n",
        "  idade_anos = int(input('Quantos anos você tem?:'))\n",
        "  idade_meses = int(input('Quantos meses você tem?:'))\n",
        "  idade_dias = int(input('Quantos dias de vida você tem?:'))\n",
        "  contador = idade_dias \n",
        "  contador = contador + (idade_anos * 365) \n",
        "  contador_mes = 0\n",
        "  for x in range(1, 13):\n",
        "    if x in (4, 6, 9, 11):\n",
        "      contador_mes = contador_mes + 30\n",
        "    elif x == 2:\n",
        "      contador_mes = contador_mes + 28\n",
        "    else:\n",
        "      contador_mes = contador_mes + 31\n",
        "  contador = contador + contador_mes\n",
        "  print(f'{contador}, total de dias de vida.')\n",
        "\n",
        "idade()"
      ],
      "execution_count": 3,
      "outputs": [
        {
          "output_type": "stream",
          "text": [
            "Quantos anos você tem?:47\n",
            "Quantos meses você tem?:5\n",
            "Quantos dias de vida você tem?:3\n",
            "17523, total de dias de vida.\n"
          ],
          "name": "stdout"
        }
      ]
    },
    {
      "cell_type": "markdown",
      "metadata": {
        "id": "n6lu42NaUUC2"
      },
      "source": [
        "3. Escreva uma função em Python que calcule o fatorial de um dado número\n",
        "N usando um for. O fatorial de N=0 é um. O fatorial de N é (para N > 0): N x\n",
        "(N-1) x (N-2) x … x 3 x 2 x 1. Por exemplo, para N=5 o fatorial é: 5 x 4 x 3 x 2\n",
        "x 1 = 120. Se N for negativo, exiba uma mensagem indicando que não é\n",
        "possível calcular seu fatorial."
      ]
    },
    {
      "cell_type": "code",
      "metadata": {
        "id": "0_-1AzLVFoGs",
        "outputId": "e32e5e94-df15-4e45-d0b3-7c7aa22dc173",
        "colab": {
          "base_uri": "https://localhost:8080/",
          "height": 202
        }
      },
      "source": [
        "# exercícios questão 3\n",
        "def calcular_fatorial():\n",
        "  n = int(input('Informe o número que você desejar calcular o fatorial:'))\n",
        "  if n < 1:\n",
        "    print('Número inválido.')\n",
        "  for x in range(n-1, 1, -1):\n",
        "    n = n * x\n",
        "    print(n)\n",
        "\n",
        "calcular_fatorial()\n"
      ],
      "execution_count": 4,
      "outputs": [
        {
          "output_type": "stream",
          "text": [
            "Informe o número que você desejar calcular o fatorial:12\n",
            "132\n",
            "1320\n",
            "11880\n",
            "95040\n",
            "665280\n",
            "3991680\n",
            "19958400\n",
            "79833600\n",
            "239500800\n",
            "479001600\n"
          ],
          "name": "stdout"
        }
      ]
    },
    {
      "cell_type": "markdown",
      "metadata": {
        "id": "zyzoi7zMUans"
      },
      "source": [
        "4. Escreva um programa em Python que calcule o fatorial de um dado número\n",
        "N usando um while. Use as mesmas especificações do item anterior."
      ]
    },
    {
      "cell_type": "code",
      "metadata": {
        "id": "MTWDvxDiMunB",
        "outputId": "7cbe0e54-27ba-4cbf-f2c6-93ba593102c0",
        "colab": {
          "base_uri": "https://localhost:8080/",
          "height": 50
        }
      },
      "source": [
        "# exercícios questão 4\n",
        "def calcular_fatorial():\n",
        "  n = int(input('Informe o número que você desejar calcular o fatorial:'))\n",
        "  x = n - 1\n",
        "  if n < 1:\n",
        "    print('Número inválido.')\n",
        "  while x > 0:\n",
        "    n = n * x\n",
        "    x = x - 1\n",
        "  print(n)\n",
        "\n",
        "calcular_fatorial()"
      ],
      "execution_count": 5,
      "outputs": [
        {
          "output_type": "stream",
          "text": [
            "Informe o número que você desejar calcular o fatorial:12\n",
            "479001600\n"
          ],
          "name": "stdout"
        }
      ]
    },
    {
      "cell_type": "markdown",
      "metadata": {
        "id": "USv_q5O-Uf6t"
      },
      "source": [
        "5. Trabalhar com tuplas é muito importante! Crie 4 funções nas quais:\n",
        "a. Dada uma tupla e um elemento, verifique se o elemento existe\n",
        "na tupla e retorne o indice do mesmo\n"
      ]
    },
    {
      "cell_type": "code",
      "metadata": {
        "id": "VZ7axbY_SPf8",
        "outputId": "c6311872-88f5-4b24-a94a-f272b79a4614",
        "colab": {
          "base_uri": "https://localhost:8080/",
          "height": 84
        }
      },
      "source": [
        "# exercícios questão 5 letra a\n",
        "def verificar_elemento(tupla):\n",
        "  elemento = input('Qual é o elemento?:')\n",
        "  if elemento in tupla:\n",
        "    print(f'Faz parte do índice {tupla.index(elemento)}.')\n",
        "  else:\n",
        "    print('Não faz parte da tupla.')\n",
        "\n",
        "\n",
        "criar_tupla = ('a', 'b','c', 'd')\n",
        "\n",
        "verificar_elemento(criar_tupla)\n",
        "verificar_elemento(('h','i'))\n"
      ],
      "execution_count": 7,
      "outputs": [
        {
          "output_type": "stream",
          "text": [
            "Qual é o elemento?:c\n",
            "Faz parte do índice 2.\n",
            "Qual é o elemento?:h\n",
            "Faz parte do índice 0.\n"
          ],
          "name": "stdout"
        }
      ]
    },
    {
      "cell_type": "markdown",
      "metadata": {
        "id": "CkEYy2PwUo-_"
      },
      "source": [
        "b. Dada uma tupla, retorne 2 tuplas onde cada uma representa\n",
        "uma metade da tupla original.\n"
      ]
    },
    {
      "cell_type": "code",
      "metadata": {
        "id": "YXJKFvzQbXNw",
        "outputId": "4acfbb57-9e70-4f94-c692-0cdf65744b3f",
        "colab": {
          "base_uri": "https://localhost:8080/",
          "height": 50
        }
      },
      "source": [
        "# exercicío 5 letra b\n",
        "minha_tupla = ('a', 'b','c', 'd', 'e', 'f')\n",
        "\n",
        "def dividir_tupla(tupla): \n",
        "  tupla_a = ()\n",
        "  tupla_b = ()\n",
        "  metade_tamanho_tupla = int (len(tupla) / 2)\n",
        "  for x in range( 0, metade_tamanho_tupla):\n",
        "    tupla_temporaria = tuple(tupla[x])\n",
        "    tupla_a += tupla_temporaria\n",
        "  for x in range(metade_tamanho_tupla, len(tupla)):\n",
        "    tupla_temporaria = tuple(tupla[x])\n",
        "    tupla_b += tupla_temporaria\n",
        "  print(tupla_a)\n",
        "  print(tupla_b)\n",
        "\n",
        "\n",
        "dividir_tupla(minha_tupla)"
      ],
      "execution_count": 8,
      "outputs": [
        {
          "output_type": "stream",
          "text": [
            "('a', 'b', 'c')\n",
            "('d', 'e', 'f')\n"
          ],
          "name": "stdout"
        }
      ]
    },
    {
      "cell_type": "markdown",
      "metadata": {
        "id": "ENkDAmSdUxrP"
      },
      "source": [
        "c. Dada uma tupla e um elemento, elimine esse elemento da\n",
        "tupla.\n"
      ]
    },
    {
      "cell_type": "code",
      "metadata": {
        "id": "GY5KRjUDwPoa",
        "outputId": "7d4e74a0-8d9a-4618-d650-17951d4596e4",
        "colab": {
          "base_uri": "https://localhost:8080/",
          "height": 50
        }
      },
      "source": [
        "# exercicío 5 letra c\n",
        "def remover_elemento(tupla):\n",
        "  elemento = input('Qual é o elemento que deseja remover?: ')\n",
        "  lista_auxiliar = list(tupla)\n",
        "  if elemento in tupla:\n",
        "    lista_auxiliar.remove(elemento)\n",
        "    tupla = tuple(lista_auxiliar)\n",
        "    print(tupla)\n",
        "  else:\n",
        "    print('Não faz parte da tupla')\n",
        "\n",
        "\n",
        "criar_tupla = ('a', 'b','c', 'd')\n",
        "\n",
        "remover_elemento(criar_tupla)"
      ],
      "execution_count": 9,
      "outputs": [
        {
          "output_type": "stream",
          "text": [
            "Qual é o elemento que deseja remover?: d\n",
            "('a', 'b', 'c')\n"
          ],
          "name": "stdout"
        }
      ]
    },
    {
      "cell_type": "markdown",
      "metadata": {
        "id": "L_uElsAuU9DT"
      },
      "source": [
        "d. Dada uma tupla, retorne uma nova tupla com todos os\n",
        "elementos invertidos.\n"
      ]
    },
    {
      "cell_type": "code",
      "metadata": {
        "id": "bsfpOW_T6B1k",
        "outputId": "0584697a-9895-4c11-b125-cb72ca762ab0",
        "colab": {
          "base_uri": "https://localhost:8080/",
          "height": 34
        }
      },
      "source": [
        "# exercicío 5 letra d\n",
        "def inverter_elemento(tupla):\n",
        "  tupla = tupla[::-1]\n",
        "  print(tupla)\n",
        "  \n",
        " \n",
        "\n",
        "criar_tupla = ('a', 'b','c', 'd')\n",
        "\n",
        "inverter_elemento(criar_tupla)"
      ],
      "execution_count": 10,
      "outputs": [
        {
          "output_type": "stream",
          "text": [
            "('d', 'c', 'b', 'a')\n"
          ],
          "name": "stdout"
        }
      ]
    },
    {
      "cell_type": "markdown",
      "metadata": {
        "id": "J2OlIHjwVFtQ"
      },
      "source": [
        "8. Escreva um programa em Python que receba três valores reais X, Y e Z,\n",
        "guarde esses valores numa tupla e verifique se esses valores podem ser os\n",
        "comprimentos dos lados de um triângulo e, neste caso, retorne qual o tipo de\n",
        "triângulo formado."
      ]
    },
    {
      "cell_type": "code",
      "metadata": {
        "id": "0_0Zud0G7moF",
        "outputId": "5d77f094-6125-485c-a452-5890de2248f0",
        "colab": {
          "base_uri": "https://localhost:8080/",
          "height": 67
        }
      },
      "source": [
        "\n",
        "#exercicio 8\n",
        "def valores_tupla(x, y, z):\n",
        "  tupla = (x, y, z)\n",
        "  if x == y and x == z and y == z:\n",
        "    print('é um triângulo equilátero!')\n",
        "  elif  x != y and x != z and y != z:\n",
        "    print('é um triângulo escaleno!')\n",
        "  else:\n",
        "    print('é um triângulo isósceles!')\n",
        "\n",
        "valores_tupla(20, 40, 60)\n",
        "valores_tupla(10, 10, 10)\n",
        "valores_tupla(60, 60, 20)\n"
      ],
      "execution_count": 11,
      "outputs": [
        {
          "output_type": "stream",
          "text": [
            "é um triângulo escaleno!\n",
            "é um triângulo equilátero!\n",
            "é um triângulo isósceles!\n"
          ],
          "name": "stdout"
        }
      ]
    },
    {
      "cell_type": "markdown",
      "metadata": {
        "id": "f4CexgkTMGCf"
      },
      "source": [
        "17. Escreva uma função que receba uma string e um número inteiro x e\n",
        "rotacione a string x posições para a esquerda. Assuma que a string tem pelo\n",
        "menos x caracteres.\n",
        "Isto é, utilizando como entradas a string “aeiou” e o inteiro 3, o resultado da\n",
        "sua função deve ser “ouaei”.\n"
      ]
    },
    {
      "cell_type": "code",
      "metadata": {
        "id": "SkgBwkzDJ8jb",
        "outputId": "0416bdfd-ec5f-414c-e643-8bdba7fb1ca4",
        "colab": {
          "base_uri": "https://localhost:8080/",
          "height": 67
        }
      },
      "source": [
        "def string_numero(palavra, numero): \n",
        "  primeira = palavra[0:numero]\n",
        "  segunda = palavra[numero:]\n",
        "  print(segunda + primeira)\n",
        "\n",
        "usuario_palavra = input('Qual palavra você deseja ter a posição rotacionada?:')\n",
        "usuario_numero = int(input('Qual o número inteiro?:'))\n",
        "\n",
        "string_numero(usuario_palavra, usuario_numero)\n",
        "\n",
        "\n",
        "\n",
        "\n",
        "              \n",
        "\n"
      ],
      "execution_count": 12,
      "outputs": [
        {
          "output_type": "stream",
          "text": [
            "Qual palavra você deseja ter a posição rotacionada?:Melancia\n",
            "Qual o número inteiro?:5\n",
            "ciaMelan\n"
          ],
          "name": "stdout"
        }
      ]
    }
  ]
}