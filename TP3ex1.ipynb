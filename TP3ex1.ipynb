{
  "nbformat": 4,
  "nbformat_minor": 0,
  "metadata": {
    "colab": {
      "name": "TP3ex1.ipynb",
      "provenance": [],
      "authorship_tag": "ABX9TyOrFG8rVv6sRB56z9rp4Zgh",
      "include_colab_link": true
    },
    "kernelspec": {
      "name": "python3",
      "display_name": "Python 3"
    }
  },
  "cells": [
    {
      "cell_type": "markdown",
      "metadata": {
        "id": "view-in-github",
        "colab_type": "text"
      },
      "source": [
        "<a href=\"https://colab.research.google.com/github/Myranda1/Estudos/blob/master/TP3ex1.ipynb\" target=\"_parent\"><img src=\"https://colab.research.google.com/assets/colab-badge.svg\" alt=\"Open In Colab\"/></a>"
      ]
    },
    {
      "cell_type": "code",
      "metadata": {
        "id": "bUJTv9HpYpl4",
        "colab_type": "code",
        "colab": {}
      },
      "source": [
        "\n",
        "def calcularTotalConta(totalConta, porcentagemConta, totalPessoas): \n",
        "  valorFinal = totalConta + (totalConta/porcentagemConta)\n",
        "  valorPessoa = valorFinal/totalPessoas\n",
        "  print(\"O valor total da conta, com a taxa de serviço, será de: R$\" + str(valorFinal).replace('.',',') + \" e dividindo a conta por \" + str(totalPessoas) + \" pessoa(s), cada pessoa deverá pagar: R$\" + str(valorPessoa).replace('.',','))\n",
        "\n",
        "totalPessoas = 0\n",
        "totalConta = 0\n",
        "porcentagemConta = 0\n",
        "totalPessoas = int(input(\"Informe o total de pessoas:\"))\n",
        "if totalPessoas < 0:\n",
        "  print(\"Valor inválido.\")\n",
        "else: \n",
        "  totalConta = int(input(\"Informe o valor total do consumo: R$\"))\n",
        "  if totalConta < 0:\n",
        "    print(\"Valor inválido.\")\n",
        "  else: \n",
        "    porcentagemConta = int(input(\"Informe o percentual do serviço, entre 0 e 100 porcento:\"))\n",
        "    if porcentagemConta < 0:\n",
        "      print(\"Não é posssível realizar o cálculo.\")\n",
        "    else:\n",
        "      calcularTotalConta(totalConta, porcentagemConta, totalPessoas)\n"
      ],
      "execution_count": null,
      "outputs": []
    }
  ]
}