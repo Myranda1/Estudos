{
  "nbformat": 4,
  "nbformat_minor": 0,
  "metadata": {
    "colab": {
      "name": "Assessment5a.ipynb",
      "provenance": [],
      "collapsed_sections": [],
      "authorship_tag": "ABX9TyNUXFpAZ9r63U4fYfufxZEs",
      "include_colab_link": true
    },
    "kernelspec": {
      "name": "python3",
      "display_name": "Python 3"
    }
  },
  "cells": [
    {
      "cell_type": "markdown",
      "metadata": {
        "id": "view-in-github",
        "colab_type": "text"
      },
      "source": [
        "<a href=\"https://colab.research.google.com/github/Myranda1/Estudos/blob/master/Assessment5a.ipynb\" target=\"_parent\"><img src=\"https://colab.research.google.com/assets/colab-badge.svg\" alt=\"Open In Colab\"/></a>"
      ]
    },
    {
      "cell_type": "code",
      "metadata": {
        "id": "9eiw1lrb9qt-",
        "outputId": "86ea1d6a-a326-49a1-edd4-5b06248d5c72",
        "colab": {
          "base_uri": "https://localhost:8080/",
          "height": 67
        }
      },
      "source": [
        "from google.colab import files\n",
        "import csv\n",
        "\n",
        "def getPib(paisEncontrado, ano):\n",
        "  pibEncontrado = paisEncontrado[ano]\n",
        "  return pibEncontrado\n",
        "\n",
        "def procurarPaises(paisesLista, paisEscolhido):\n",
        "  for i in range(len(paisesLista)):\n",
        "    for j in range(len(paisesLista[i])):\n",
        "      if paisesLista[i][j] == paisEscolhido:\n",
        "        return paisesLista[i]\n",
        "  return \"INVALIDO\"\n",
        "\n",
        "def converterAno(y):\n",
        "  if y == 2013:\n",
        "    return 1\n",
        "  elif y == 2014:\n",
        "    return 2\n",
        "  elif y == 2015:\n",
        "    return 3\n",
        "  elif y == 2016:\n",
        "    return 4\n",
        "  elif y == 2017:\n",
        "    return 5\n",
        "  elif y == 2018:\n",
        "    return 6\n",
        "  elif y == 2019:\n",
        "    return 7\n",
        "  elif y == 2020:\n",
        "    return 8\n",
        "  else:\n",
        "    return -1\n",
        "\n",
        "arquivo = files.upload()\n",
        "paises = []\n",
        "with open('AT.csv',newline='')as csvfile:\n",
        "  spamreader = csv.reader(csvfile, delimiter=',')\n",
        "  for linha in spamreader: \n",
        "    paises.append(linha)\n",
        "\n",
        "paises.pop(0)\n",
        "paisEscolhido = input(\"Qual país deseja pesquisar o PIB?: \")\n",
        "paisEncontrado = procurarPaises(paises, paisEscolhido)\n",
        "\n",
        "\n",
        "ano = int(input(\" Digite o ano que deseja pesquisar entre 2013 e 2020: \"))\n",
        "anoConvertido = converterAno(ano)\n",
        "\n",
        "if anoConvertido == -1:\n",
        "  print(\"Ano inválido\")\n",
        "else:\n",
        "  pibEncontrado = getPib(paisEncontrado, anoConvertido)\n",
        "  print(f'PIB {paisEncontrado[0]} em {ano}: ${pibEncontrado} trilhões.')\n"
      ],
      "execution_count": null,
      "outputs": [
        {
          "output_type": "stream",
          "text": [
            "Qual país deseja pesquisar o PIB?: EUA\n",
            " Digite o ano que deseja pesquisar entre 2013 e 2020: 2017\n",
            "PIB EUA em 2017: $19.86 trilhões.\n"
          ],
          "name": "stdout"
        }
      ]
    }
  ]
}