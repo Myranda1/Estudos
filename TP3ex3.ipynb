{
  "nbformat": 4,
  "nbformat_minor": 0,
  "metadata": {
    "colab": {
      "name": "TP3ex3.ipynb",
      "provenance": [],
      "authorship_tag": "ABX9TyPhnDkuUjkpsLhjSRsYntya",
      "include_colab_link": true
    },
    "kernelspec": {
      "name": "python3",
      "display_name": "Python 3"
    }
  },
  "cells": [
    {
      "cell_type": "markdown",
      "metadata": {
        "id": "view-in-github",
        "colab_type": "text"
      },
      "source": [
        "<a href=\"https://colab.research.google.com/github/Myranda1/Estudos/blob/master/TP3ex3.ipynb\" target=\"_parent\"><img src=\"https://colab.research.google.com/assets/colab-badge.svg\" alt=\"Open In Colab\"/></a>"
      ]
    },
    {
      "cell_type": "code",
      "metadata": {
        "id": "WeYAkaZ1clhH",
        "colab_type": "code",
        "colab": {}
      },
      "source": [
        "def concursoMaiorNota():\n",
        "\n",
        "  totalParticipantes = 5\n",
        "  participantesCadastrados = 0\n",
        "  listaNome = []\n",
        "  listaNotas =[]\n",
        "  while (participantesCadastrados !=totalParticipantes):\n",
        "    nota = float(input(\"Informe a nota do participante \" + str(participantesCadastrados) + \":\"))\n",
        "    if nota < 0 or nota > 10:\n",
        "      print(\"Nota inválida\")\n",
        "      continue\n",
        "    nome = input(\"Informe nome do participante \" + str(participantesCadastrados) + \":\")\n",
        "  \n",
        "    listaNome.append(nome)\n",
        "    listaNotas.append(nota)\n",
        "    participantesCadastrados+= 1\n",
        "\n",
        "  maiorNota = listaNotas[2]\n",
        "  for nota in listaNotas:\n",
        "    if nota > maiorNota:\n",
        "      maiorNota = nota\n",
        "\n",
        "  vencedor = listaNome[listaNotas.index(maiorNota)]\n",
        "  print(\"O vencedor é \" + vencedor + \" e a nota dele foi: \" + str(maiorNota))\n",
        "\n",
        "concursoMaiorNota()\n",
        "\n",
        "\n"
      ],
      "execution_count": null,
      "outputs": []
    }
  ]
}