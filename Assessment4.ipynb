{
  "nbformat": 4,
  "nbformat_minor": 0,
  "metadata": {
    "colab": {
      "name": "Assessment4.ipynb",
      "provenance": [],
      "collapsed_sections": [],
      "authorship_tag": "ABX9TyMqfgGzCGCxdJUVyg+QS3y7",
      "include_colab_link": true
    },
    "kernelspec": {
      "name": "python3",
      "display_name": "Python 3"
    }
  },
  "cells": [
    {
      "cell_type": "markdown",
      "metadata": {
        "id": "view-in-github",
        "colab_type": "text"
      },
      "source": [
        "<a href=\"https://colab.research.google.com/github/Myranda1/Estudos/blob/master/Assessment4.ipynb\" target=\"_parent\"><img src=\"https://colab.research.google.com/assets/colab-badge.svg\" alt=\"Open In Colab\"/></a>"
      ]
    },
    {
      "cell_type": "code",
      "metadata": {
        "id": "uU519CyfhSac",
        "colab_type": "code",
        "colab": {}
      },
      "source": [
        "import matplotlib.pyplot as plt\n",
        "\n",
        "def calcularJurosCompostos(tempo, montante, taxa):\n",
        "  novoMontante = montante\n",
        "  listaMeses = []\n",
        "  listaMontantes = []\n",
        "  for periodo in range(0, tempo):\n",
        "    mes = periodo + 1\n",
        "    listaMeses.append(mes)\n",
        "    lucro = novoMontante/100*taxa\n",
        "    print(f'Neste mês o montante será {novoMontante:.2f}, o lucro será de {lucro:.2f}.')\n",
        "    listaMontantes.append(novoMontante)\n",
        "    novoMontante += lucro \n",
        "    print(f'O novo montante é {novoMontante:.2f}')\n",
        "  plt.plot(listaMeses, listaMontantes)\n",
        "  plt.show\n",
        "\n",
        "tempoUsuario = int(input(\"Informe o tempo do investimento: \"))\n",
        "montanteUsuario = float(input(\" Informe o montante inicial a ser investido: R$ \"))\n",
        "taxaUsuario = float(input(\" Qual a taxa que deseja utilizar?: \"))\n",
        "\n",
        "calcularJurosCompostos(tempoUsuario, montanteUsuario, taxaUsuario)\n"
      ],
      "execution_count": null,
      "outputs": []
    }
  ]
}