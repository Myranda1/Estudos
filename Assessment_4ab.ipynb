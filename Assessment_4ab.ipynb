{
  "nbformat": 4,
  "nbformat_minor": 0,
  "metadata": {
    "colab": {
      "name": "Assessment 4ab.ipynb",
      "provenance": [],
      "collapsed_sections": [],
      "authorship_tag": "ABX9TyN7PXlpsOt6dm9I1+DntG27",
      "include_colab_link": true
    },
    "kernelspec": {
      "name": "python3",
      "display_name": "Python 3"
    }
  },
  "cells": [
    {
      "cell_type": "markdown",
      "metadata": {
        "id": "view-in-github",
        "colab_type": "text"
      },
      "source": [
        "<a href=\"https://colab.research.google.com/github/Myranda1/Estudos/blob/master/Assessment_4ab.ipynb\" target=\"_parent\"><img src=\"https://colab.research.google.com/assets/colab-badge.svg\" alt=\"Open In Colab\"/></a>"
      ]
    },
    {
      "cell_type": "code",
      "metadata": {
        "id": "E20Hk5jR6V_9",
        "outputId": "8f560797-1228-4f2f-c11c-65db9dae3bba",
        "colab": {
          "base_uri": "https://localhost:8080/",
          "height": 537
        }
      },
      "source": [
        "import matplotlib.pyplot as plt\n",
        "\n",
        "def calcularJurosCompostos(tempo, montante, taxa, aporte):\n",
        "  novoMontante = montante\n",
        "  listaMeses = []\n",
        "  listaMontantes = []\n",
        "  for periodo in range(0, tempo):\n",
        "    mes = periodo + 1\n",
        "    listaMeses.append(mes)\n",
        "    lucro = novoMontante/100*taxa\n",
        "    print(f'Neste mês o montante será {novoMontante:.2f}, o lucro será de {lucro:.2f}.')\n",
        "    listaMontantes.append(novoMontante)\n",
        "    novoMontante += lucro \n",
        "    print(f'O novo montante é {novoMontante:.2f}')\n",
        "  plt.plot(listaMeses, listaMontantes)\n",
        "  plt.show\n",
        "\n",
        "tempoUsuario = int(input(\"Informe o tempo do investimento: \"))\n",
        "montanteUsuario = float(input(\" Informe o montante inicial a ser investido: R$ \"))\n",
        "taxaUsuario = float(input(\" Qual a taxa que deseja utilizar?: \"))\n",
        "aporte = int(input(\"Informe o aporte mensal: \"))\n",
        "\n",
        "calcularJurosCompostos(tempoUsuario, montanteUsuario, taxaUsuario, aporte)"
      ],
      "execution_count": null,
      "outputs": [
        {
          "output_type": "stream",
          "text": [
            "Informe o tempo do investimento: 6\n",
            " Informe o montante inicial a ser investido: R$ 3000\n",
            " Qual a taxa que deseja utilizar?: 1.0\n",
            "Informe o aporte mensal: 1000\n",
            "Neste mês o montante será 3000.00, o lucro será de 30.00.\n",
            "O novo montante é 3030.00\n",
            "Neste mês o montante será 3030.00, o lucro será de 30.30.\n",
            "O novo montante é 3060.30\n",
            "Neste mês o montante será 3060.30, o lucro será de 30.60.\n",
            "O novo montante é 3090.90\n",
            "Neste mês o montante será 3090.90, o lucro será de 30.91.\n",
            "O novo montante é 3121.81\n",
            "Neste mês o montante será 3121.81, o lucro será de 31.22.\n",
            "O novo montante é 3153.03\n",
            "Neste mês o montante será 3153.03, o lucro será de 31.53.\n",
            "O novo montante é 3184.56\n"
          ],
          "name": "stdout"
        },
        {
          "output_type": "display_data",
          "data": {
            "image/png": "[encoded data removed]",
            "text/plain": [
              "<Figure size 432x288 with 1 Axes>"
            ]
          },
          "metadata": {
            "tags": [],
            "needs_background": "light"
          }
        }
      ]
    }
  ]
}